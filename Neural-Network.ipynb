{
 "cells": [
  {
   "cell_type": "code",
   "execution_count": 64,
   "metadata": {
    "collapsed": false,
    "outputHidden": false,
    "inputHidden": false
   },
   "outputs": [],
   "source": [
    "import numpy as np\n",
    "import h5py\n",
    "from pylab import *\n",
    "import matplotlib\n",
    "\n",
    "import matplotlib.pyplot as plt\n",
    "import scipy.interpolate as interp\n",
    "\n",
    "from helper_functions import normalize_features, initialize_parameters, get_Yhat, get_accuracy_logistic\n",
    "\n",
    "%matplotlib inline"
   ]
  },
  {
   "cell_type": "markdown",
   "metadata": {
    "collapsed": false,
    "outputHidden": false,
    "inputHidden": false
   },
   "source": [
    "### Logistic Cost Function (Unregularized) ###\n",
    "\n",
    "\n",
    "$$J(W, X, Y) = - \\frac{1}{m} \\sum\\limits_{k=1}^K\\sum\\limits_{i=1}^m Y_k^{(i)}log(h_{W}(x^{(i)})_k) + (1 - Y_k^{(i)} )log(1- h_W(x^{(i)})_k) $$"
   ]
  },
  {
   "cell_type": "code",
   "execution_count": 65,
   "metadata": {
    "collapsed": false,
    "outputHidden": false,
    "inputHidden": false
   },
   "outputs": [],
   "source": [
    "def compute_cost_logistic(Yhat, Y, derivative=False):\n",
    "    assert (Yhat.shape == Y.shape)\n",
    "\n",
    "    if derivative:\n",
    "        return np.divide(1 - Y, 1 - Yhat) - np.divide(Y, Yhat)\n",
    "    else:\n",
    "        m = Y.shape[0]\n",
    "        return (-1.0 / m) * np.sum(np.dot(Y.T, np.log(Yhat)) + np.dot((1-Y).T, np.log(1-Yhat)))"
   ]
  },
  {
   "cell_type": "markdown",
   "metadata": {
    "collapsed": false,
    "outputHidden": false,
    "inputHidden": false
   },
   "source": [
    "### Activation Functions ###\n",
    "\n",
    "$$ sigmoid(Z) = \\frac{1}{1 + e^{-Z}} $$\n",
    "$$ tanh(Z) $$"
   ]
  },
  {
   "cell_type": "code",
   "execution_count": 66,
   "metadata": {
    "collapsed": false,
    "outputHidden": false,
    "inputHidden": false
   },
   "outputs": [],
   "source": [
    "def sigmoid(Z, derivative=False):\n",
    "    if derivative:\n",
    "        return np.multiply(sigmoid(Z), (1-sigmoid(Z)))\n",
    "    else:\n",
    "        return 1 / (1 + np.exp(-Z))\n",
    "\n",
    "\n",
    "def tanh(Z, derivative=False):\n",
    "    if derivative:\n",
    "        return 1 - np.power(np.tanh(Z), 2)\n",
    "    else:\n",
    "        return np.tanh(Z)\n",
    "    \n",
    "    \n",
    "def ReLU(Z, derivative=False):\n",
    "    if derivative:\n",
    "        return Z > 0\n",
    "    else:\n",
    "        return np.multiply(Z, (Z > 0))"
   ]
  },
  {
   "cell_type": "code",
   "execution_count": 67,
   "metadata": {
    "collapsed": false,
    "outputHidden": false,
    "inputHidden": false
   },
   "outputs": [],
   "source": [
    "def get_data_sets():\n",
    "    test_path = 'datasets/cats/test_catvnoncat.h5'\n",
    "    train_path = 'datasets/cats/train_catvnoncat.h5'\n",
    "\n",
    "    train_dataset = h5py.File(train_path, \"r\")\n",
    "    X_train = np.array(train_dataset[\"train_set_x\"][:])\n",
    "    Y_train = np.array(train_dataset[\"train_set_y\"][:])\n",
    "    mtrain = X_train.shape[0]\n",
    "    X_train = X_train.reshape(mtrain, -1)\n",
    "    Y_train = Y_train.reshape(mtrain, 1)\n",
    "\n",
    "    test_dataset = h5py.File(test_path, \"r\")\n",
    "    X_test = np.array(test_dataset[\"test_set_x\"][:])\n",
    "    Y_test = np.array(test_dataset[\"test_set_y\"][:])\n",
    "    mtest = X_test.shape[0]\n",
    "    X_test = X_test.reshape(mtest, -1)\n",
    "    Y_test = Y_test.reshape(mtest, 1)\n",
    "\n",
    "    nx = X_train.shape[1]\n",
    "    ny = Y_train.shape[1]\n",
    "\n",
    "    return X_train, Y_train, mtrain, X_test, Y_test, mtest, nx, ny"
   ]
  },
  {
   "cell_type": "code",
   "execution_count": 68,
   "metadata": {},
   "outputs": [],
   "source": [
    "def forwardpropagate(X, parameters, activation_functions):\n",
    "    last_layer = len(activation_functions)\n",
    "\n",
    "    def forwardpropagate_recurse(outputs, layer=1):\n",
    "        prev_A = outputs[\"A\" + str(layer - 1)]\n",
    "        g = activation_functions[\"g\" + str(layer)]\n",
    "        W = parameters[\"W\" + str(layer)]\n",
    "        b = parameters[\"b\" + str(layer)]\n",
    "\n",
    "        Z = np.dot(W, prev_A) + b\n",
    "        outputs[\"A\" + str(layer)] = g(Z)\n",
    "        outputs[\"Z\" + str(layer)] = Z\n",
    "\n",
    "        if layer != last_layer:\n",
    "            return forwardpropagate_recurse(outputs, layer + 1)\n",
    "\n",
    "        return outputs\n",
    "\n",
    "    outputs = {\"A0\": X.T}\n",
    "    return forwardpropagate_recurse(outputs)\n",
    "\n",
    "\n",
    "def backpropagate(outputs, parameters, activation_functions, Y, cost_function, lambd = 0.0):\n",
    "    m = Y.shape[0]\n",
    "    last_layer = len(activation_functions)\n",
    "    gradients = {}\n",
    "\n",
    "    def backpropagate_recurse(layer=1):\n",
    "\n",
    "        if layer != last_layer:\n",
    "            this_dA = backpropagate_recurse(layer + 1)\n",
    "        else:  # this is the last layer\n",
    "            Yhat = outputs[\"A\" + str(layer)].T\n",
    "            this_dA = cost_function(Yhat, Y, derivative=True).T\n",
    "\n",
    "        this_dg = activation_functions[\"g\" + str(layer)]\n",
    "        this_W = parameters[\"W\" + str(layer)]\n",
    "        this_Z = outputs[\"Z\" + str(layer)]\n",
    "        prev_A = outputs[\"A\" + str(layer - 1)]\n",
    "\n",
    "        this_dZ = np.multiply(this_dA, this_dg(this_Z, derivative=True))\n",
    "\n",
    "        gradients[\"dW\" + str(layer)] = ( (1.0 / m) * np.dot(this_dZ, prev_A.T) ) + ( (lambd / m) * this_W )\n",
    "        gradients[\"db\" + str(layer)] = (1.0 / m) * np.sum(this_dZ, axis=1, keepdims=True)\n",
    "\n",
    "        return np.dot(this_W.T, this_dZ)  # return prev_dA\n",
    "\n",
    "    backpropagate_recurse()\n",
    "    return gradients\n"
   ]
  },
  {
   "cell_type": "code",
   "execution_count": 69,
   "metadata": {
    "collapsed": false,
    "outputHidden": false,
    "inputHidden": false
   },
   "outputs": [],
   "source": [
    "def model_nn(X_tr, Y_tr, X_cv, Y_cv, \n",
    "             learning_rate, lambd,\n",
    "             layer_dims, activation_functions, cost_function, \n",
    "             min_iterations, max_iterations, step_size):\n",
    "    \n",
    "    i_vals, cv_cost_vals, tr_cost_vals, accuracy_vals = ( [] for i in range(4) )\n",
    "    parameters = initialize_parameters(layer_dims)\n",
    "    num_layers = len(activation_functions)\n",
    "\n",
    "    for i in range(min_iterations, max_iterations):\n",
    "        outputs = forwardpropagate(X_tr, parameters, activation_functions)\n",
    "        gradients = backpropagate(outputs, parameters, activation_functions, Y_tr, cost_function, lambd)\n",
    "        for layer in range(1, num_layers+1):\n",
    "            parameters[\"W\" + str(layer)] -= learning_rate * gradients[\"dW\" + str(layer)]\n",
    "            parameters[\"b\" + str(layer)] -= learning_rate * gradients[\"db\" + str(layer)]\n",
    "            \n",
    "        if i % step_size == 0:\n",
    "            Yhat_tr = get_Yhat(X_tr, parameters, activation_functions)\n",
    "            Yhat_cv = get_Yhat(X_cv, parameters, activation_functions)\n",
    "            cost_tr = compute_cost_logistic(Yhat_tr, Y_tr)\n",
    "            cost_cv = compute_cost_logistic(Yhat_cv, Y_cv)\n",
    "            accuracy = get_accuracy_logistic(Yhat_cv, Y_cv)\n",
    "            \n",
    "            i_vals.append(i)\n",
    "            cv_cost_vals.append(cost_cv)\n",
    "            tr_cost_vals.append(cost_tr)\n",
    "            accuracy_vals.append(accuracy)\n",
    "            \n",
    "    data = {\"i_vals\" : i_vals,\n",
    "            \"cv_cost_vals\" : cv_cost_vals,\n",
    "            \"tr_cost_vals\" : tr_cost_vals,\n",
    "            \"accuracy_vals\" : accuracy_vals}\n",
    "    \n",
    "    return parameters, data"
   ]
  },
  {
   "cell_type": "code",
   "execution_count": 75,
   "metadata": {
    "collapsed": false,
    "outputHidden": false,
    "inputHidden": false
   },
   "outputs": [
    {
     "name": "stdout",
     "output_type": "stream",
     "text": [
      "(209, 12288)\n(209, 1)\n"
     ]
    },
    {
     "data": {
      "image/png": "[encoded data removed]",
      "text/plain": [
       "<matplotlib.figure.Figure at 0x10c498a50>"
      ]
     },
     "metadata": {},
     "output_type": "display_data"
    },
    {
     "data": {
      "image/png": "[encoded data removed]",
      "text/plain": [
       "<matplotlib.figure.Figure at 0x10c5e37d0>"
      ]
     },
     "metadata": {},
     "output_type": "display_data"
    }
   ],
   "source": [
    "# NN Settings\n",
    "learning_rate = 0.0075\n",
    "lambd = 0.05\n",
    "\n",
    "\n",
    "# NN Architecture\n",
    "X_tr, Y_tr, m_tr, X_cv, Y_cv, m_cv, nx, ny = get_data_sets()\n",
    "\n",
    "activation_functions = {\"g1\": ReLU,\n",
    "                        \"g2\": ReLU,\n",
    "                        \"g3\": ReLU,\n",
    "                        \"g4\": sigmoid}\n",
    "\n",
    "layer_dims = [nx, 20, 7, 5, ny]\n",
    "\n",
    "assert (len(activation_functions) == (len(layer_dims) - 1))\n",
    "\n",
    "\n",
    "# Iteration Settings\n",
    "min_iterations = 0\n",
    "max_iterations = 50\n",
    "step_size = 1\n",
    "\n",
    "\n",
    "# Pre-process Data\n",
    "X_tr = X_tr / 255\n",
    "X_cv = X_cv / 255\n",
    "print(X_tr.shape)\n",
    "print(Y_tr.shape)\n",
    "\n",
    "# Run  \n",
    "parameters, data = model_nn(X_tr, Y_tr, X_cv, Y_cv, \n",
    "                            learning_rate, lambd,\n",
    "                            layer_dims, activation_functions, compute_cost_logistic, \n",
    "                            min_iterations, max_iterations, step_size)\n",
    "\n",
    "# Unpack Data\n",
    "i_vals = data[\"i_vals\"]\n",
    "cv_cost_vals = data[\"cv_cost_vals\"]\n",
    "tr_cost_vals = data[\"tr_cost_vals\"]\n",
    "accuracy_vals = data[\"accuracy_vals\"]\n",
    "\n",
    "\n",
    "plt.plot(i_vals, cv_cost_vals, 'r')\n",
    "plt.plot(i_vals, tr_cost_vals, 'b')\n",
    "plt.show()\n",
    "\n",
    "plt.plot(i_vals, accuracy_vals, 'g')\n",
    "plt.show()"
   ]
  },
  {
   "cell_type": "code",
   "execution_count": 71,
   "metadata": {},
   "outputs": [],
   "source": []
  },
  {
   "cell_type": "code",
   "execution_count": null,
   "metadata": {},
   "outputs": [],
   "source": []
  }
 ],
 "metadata": {
  "kernelspec": {
   "name": "python3",
   "language": "python",
   "display_name": "Python 3"
  },
  "kernel_info": {
   "name": "python3"
  },
  "language_info": {
   "name": "python",
   "version": "3.6.3",
   "mimetype": "text/x-python",
   "codemirror_mode": {
    "name": "ipython",
    "version": 3
   },
   "pygments_lexer": "ipython3",
   "nbconvert_exporter": "python",
   "file_extension": ".py"
  },
  "nteract": {
   "version": "0.4.3"
  }
 },
 "nbformat": 4,
 "nbformat_minor": 4
}
